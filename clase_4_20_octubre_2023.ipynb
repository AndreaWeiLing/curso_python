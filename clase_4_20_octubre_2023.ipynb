{
  "nbformat": 4,
  "nbformat_minor": 0,
  "metadata": {
    "colab": {
      "provenance": []
    },
    "kernelspec": {
      "name": "python3",
      "display_name": "Python 3"
    },
    "language_info": {
      "name": "python"
    }
  },
  "cells": [
    {
      "cell_type": "markdown",
      "source": [
        "# Ciclos while\n",
        "\n",
        "while <condition>: \\\\\n",
        "   \\# El código que sigue solo se ejecuta si la condición es verdadera. \\\\\n",
        "   \n",
        "| expresion 1 \\\\\n",
        "  expresion 2  \\\\\n",
        "  \\# En estas lineas de código deberá cambir alguna de las variables qe se estan evaluando dentro de la condición del while que permita en algun momento dado para el ciclo\n",
        "|\n",
        "|\n",
        "|\n",
        "--------------------------------------\n",
        "|Codigo después del loop"
      ],
      "metadata": {
        "id": "OFMJoZQFf_Gu"
      }
    },
    {
      "cell_type": "code",
      "execution_count": null,
      "metadata": {
        "colab": {
          "base_uri": "https://localhost:8080/"
        },
        "id": "IugfZCdJfhID",
        "outputId": "dd4a6886-a778-43b6-8dcb-678696063df2"
      },
      "outputs": [
        {
          "output_type": "stream",
          "name": "stdout",
          "text": [
            "5\n",
            "4\n",
            "3\n",
            "2\n",
            "1\n",
            "el código terminó con n=  0\n"
          ]
        }
      ],
      "source": [
        "n = 5\n",
        "\n",
        "while n>= 1:\n",
        "  print(n)\n",
        "  n = n -1\n",
        "print('el código terminó con n= ', n)"
      ]
    },
    {
      "cell_type": "markdown",
      "source": [
        "# Ciclo for\n",
        "\n",
        "Se van a ejecutar una cantidad de veces definida, esta cantidad de veces depende de los datos que se tomen al momento de establecer la sentencia del ciclo.\n",
        "\n",
        "for: \\\\\n",
        "Si se define cuántas veces el código se va a ejecutar.\n",
        "\n",
        "for n in range (5): \\\\\n",
        "    print(n)\n",
        "\n",
        "range crea una lista de 5 valores empezando desde cero (en el caso del ejemplo) \\\\\n",
        "[0,1,2,3,4]\n",
        "\n",
        "Una vez alcanza el último valor de la lista, deja de ejecutarse. //\n",
        "\n",
        "for <variable> in range (n)://\n",
        "\n",
        "dará lista: [0,1,2,3,....,n-1]\n",
        "\n"
      ],
      "metadata": {
        "id": "xttq62k8jYF-"
      }
    },
    {
      "cell_type": "code",
      "source": [
        "for n in range (5):\n",
        "    print(n)"
      ],
      "metadata": {
        "colab": {
          "base_uri": "https://localhost:8080/"
        },
        "id": "uQi42U5-kCcx",
        "outputId": "5bebfab9-9fef-4231-9380-eef78cec837b"
      },
      "execution_count": null,
      "outputs": [
        {
          "output_type": "stream",
          "name": "stdout",
          "text": [
            "0\n",
            "1\n",
            "2\n",
            "3\n",
            "4\n"
          ]
        }
      ]
    },
    {
      "cell_type": "code",
      "source": [
        "mysum = 0"
      ],
      "metadata": {
        "id": "9mXSJuTklXYx"
      },
      "execution_count": 1,
      "outputs": []
    },
    {
      "cell_type": "code",
      "source": [
        "for i in range (2,3):\n",
        "  mysum += i\n",
        "print(mysum)"
      ],
      "metadata": {
        "colab": {
          "base_uri": "https://localhost:8080/"
        },
        "id": "VFVyk1fdlLe6",
        "outputId": "9790268f-74fd-472b-ea60-e2cc1c0bf656"
      },
      "execution_count": 4,
      "outputs": [
        {
          "output_type": "stream",
          "name": "stdout",
          "text": [
            "41\n"
          ]
        }
      ]
    },
    {
      "cell_type": "code",
      "source": [
        "mysun = 0\n",
        "for i in range (5,11,2):\n",
        "  mysun += i\n",
        "print(mysun)"
      ],
      "metadata": {
        "colab": {
          "base_uri": "https://localhost:8080/"
        },
        "id": "3xx8GAtqlaJh",
        "outputId": "04759900-b43b-431c-f8df-771a590433b7"
      },
      "execution_count": null,
      "outputs": [
        {
          "output_type": "stream",
          "name": "stdout",
          "text": [
            "21\n"
          ]
        }
      ]
    },
    {
      "cell_type": "code",
      "source": [
        "suma=7\n",
        "\n",
        "for clase_programacion in range(5):\n",
        "  suma = suma+clase_programacion\n",
        "print(suma)"
      ],
      "metadata": {
        "colab": {
          "base_uri": "https://localhost:8080/"
        },
        "id": "DoF0F3u7mCA6",
        "outputId": "2e388d35-1ab5-42ae-8cc0-58af325124b9"
      },
      "execution_count": 7,
      "outputs": [
        {
          "output_type": "stream",
          "name": "stdout",
          "text": [
            "17\n"
          ]
        }
      ]
    },
    {
      "cell_type": "code",
      "source": [
        "for i in [1.1, 4.5, 6.6, 100, 200]:\n",
        "    suma = suma+i\n",
        "suma"
      ],
      "metadata": {
        "colab": {
          "base_uri": "https://localhost:8080/"
        },
        "id": "IDgeBZBNnoYs",
        "outputId": "e60de13c-77ad-4d26-a79e-60a20eb42f16"
      },
      "execution_count": null,
      "outputs": [
        {
          "output_type": "execute_result",
          "data": {
            "text/plain": [
              "322.2"
            ]
          },
          "metadata": {},
          "execution_count": 24
        }
      ]
    },
    {
      "cell_type": "code",
      "source": [
        "nombres = ['Hernan', 'Ilona', 'Francisco', 'Daniel', 'Andrea', 'Juan', 'Ivan', 'Sofia', 'Valentina']\n",
        "mensaje = ''\n",
        "for nombre in range(len(nombres)):\n",
        "\n",
        "  if nombre == 0:\n",
        "    mensaje = 'El profesor es: ' + nombres[nombre]\n",
        "  if nombre <= 3 and nombre >=1:\n",
        "    mensaje = mensaje + '\\n'\n",
        "    mensaje = mensaje + 'el/la estudiant@s: ' + nombres[nombre]\n",
        "\n",
        "    if nombre == 3:\n",
        "      mensaje = mensaje + ' ----> Están a la derecha \\n'\n",
        "\n",
        "  if nombre > 3:\n",
        "    mensaje = mensaje + nombres[nombre] + ', '\n",
        "    if nombre == 8:\n",
        "      mensaje = mensaje + ' están a la izquierda'\n"
      ],
      "metadata": {
        "id": "KRnJTeJ5n_ew"
      },
      "execution_count": null,
      "outputs": []
    },
    {
      "cell_type": "code",
      "source": [
        "# Sin print no sale el salto de casilla\n",
        "print(mensaje)"
      ],
      "metadata": {
        "colab": {
          "base_uri": "https://localhost:8080/"
        },
        "id": "FJNFAlTppR01",
        "outputId": "b72dfd3f-7749-4a2e-8425-82887c926ac1"
      },
      "execution_count": null,
      "outputs": [
        {
          "output_type": "stream",
          "name": "stdout",
          "text": [
            "El profesor es: Hernan\n",
            "el/la estudiant@s: Ilona\n",
            "el/la estudiant@s: Francisco\n",
            "el/la estudiant@s: Daniel ----> Están a la derecha \n",
            "Andrea, Juan, Ivan, Sofia, Valentina,  están a la izquierda\n"
          ]
        }
      ]
    },
    {
      "cell_type": "code",
      "source": [
        "nombres = ['Hernan', 'Ilona', 'Francisco', 'Daniel', 'Andre', 'Juan', 'Ivan', 'Sofi', 'Vale']\n",
        "mensaje = ''\n",
        "for nombre in range(len(nombres)):\n",
        "\n",
        "  if nombre == 0:\n",
        "    mensaje = 'El profesor es: ' + nombres[nombre]\n",
        "  if nombre <= 3 and nombre >=1:\n",
        "    mensaje = mensaje + '\\n'\n",
        "    mensaje = mensaje + 'el/la estudiant@s: ' + nombres[nombre]\n",
        "\n",
        "    if nombre == 3:\n",
        "      mensaje = mensaje + ' ----> Están a la derecha \\n'\n",
        "\n",
        "  if nombre > 3:\n",
        "    mensaje = mensaje + nombres[nombre] + ', '\n",
        "    if nombre == 8:\n",
        "      mensaje = mensaje + ' están a la izquierda'\n"
      ],
      "metadata": {
        "id": "k0SP_iNFwWJc"
      },
      "execution_count": null,
      "outputs": []
    },
    {
      "cell_type": "code",
      "source": [
        "print(mensaje)"
      ],
      "metadata": {
        "colab": {
          "base_uri": "https://localhost:8080/"
        },
        "id": "SWPKhcXrwoGn",
        "outputId": "2922ce67-4498-47de-c820-512ff985d49b"
      },
      "execution_count": null,
      "outputs": [
        {
          "output_type": "stream",
          "name": "stdout",
          "text": [
            "El profesor es: Hernan\n",
            "el/la estudiant@s: Ilona\n",
            "el/la estudiant@s: Francisco\n",
            "el/la estudiant@s: Daniel ----> Están a la derecha \n",
            "Andre, Juan, Ivan, Sofi, Vale,  están a la izquierda\n"
          ]
        }
      ]
    }
  ]
}